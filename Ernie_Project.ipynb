{
  "cells": [
    {
      "cell_type": "markdown",
      "metadata": {
        "id": "sK0DP-4jSEGJ"
      },
      "source": [
        "#Lib's Installation"
      ]
    },
    {
      "cell_type": "code",
      "execution_count": null,
      "metadata": {
        "id": "vcduyqhXL-cK"
      },
      "outputs": [],
      "source": [
        "!pip install nbconvert\n",
        "!pip install matplotlib\n",
        "!pip install seaborn\n",
        "!pip install prettytable\n",
        "!pip install tensorflow\n",
        "!pip install transformers\n",
        "!pip install torch"
      ]
    },
    {
      "cell_type": "code",
      "execution_count": null,
      "metadata": {
        "id": "LobUPd4xpb1u"
      },
      "outputs": [],
      "source": [
        "!pip install unzip"
      ]
    },
    {
      "cell_type": "code",
      "execution_count": null,
      "metadata": {
        "id": "DefJHsujoroP"
      },
      "outputs": [],
      "source": [
        "!unzip dataset.zip"
      ]
    },
    {
      "cell_type": "code",
      "execution_count": null,
      "metadata": {
        "id": "40VhCk_7pCP8"
      },
      "outputs": [],
      "source": [
        "data_folder = \"dataset\""
      ]
    },
    {
      "cell_type": "markdown",
      "metadata": {
        "id": "VzDltBNhSJgS"
      },
      "source": [
        "#Importing necessadry Lib's:\n",
        "\n",
        "For data manipulation (pandas), model building and evaluation (sklearn, transformers, tensorflow), image processing (cv2, PIL), and visualization (matplotlib, seaborn, prettytable)"
      ]
    },
    {
      "cell_type": "code",
      "execution_count": null,
      "metadata": {
        "id": "2fBk-cLJoomp"
      },
      "outputs": [],
      "source": [
        "import pandas as pd\n",
        "import numpy as np\n",
        "import requests\n",
        "import cv2\n",
        "from io import BytesIO\n",
        "from PIL import Image\n",
        "from sklearn.model_selection import train_test_split\n",
        "from transformers import DistilBertTokenizer, DistilBertModel, AutoTokenizer, AutoModel\n",
        "from tensorflow import keras\n",
        "from tensorflow.keras import layers\n",
        "import torch\n",
        "import matplotlib.pyplot as plt\n",
        "import seaborn as sns\n",
        "import os\n",
        "import prettytable\n",
        "import seaborn as sns\n",
        "from sklearn.metrics import confusion_matrix, classification_report"
      ]
    },
    {
      "cell_type": "code",
      "execution_count": null,
      "metadata": {
        "id": "TJKZQsrFvv6p"
      },
      "outputs": [],
      "source": [
        "dataset_limit = 100  # dataset limit"
      ]
    },
    {
      "cell_type": "markdown",
      "metadata": {
        "id": "2QlYpAC0Svee"
      },
      "source": [
        "#Loading and Prepare Data"
      ]
    },
    {
      "cell_type": "code",
      "execution_count": null,
      "metadata": {
        "colab": {
          "base_uri": "https://localhost:8080/"
        },
        "id": "2GOVViNupsJd",
        "outputId": "25675718-4c7c-4727-a35a-08c70e69122c"
      },
      "outputs": [
        {
          "name": "stdout",
          "output_type": "stream",
          "text": [
            "Loading datasets with a limit of 100 rows...\n",
            "Empty DataFrame\n",
            "Columns: [author, clean_title, created_utc, domain, hasImage, id, image_url, linked_submission_id, num_comments, score, subreddit, title, upvote_ratio, 2_way_label, 3_way_label, 6_way_label]\n",
            "Index: []\n",
            "Empty DataFrame\n",
            "Columns: [author, clean_title, created_utc, domain, hasImage, id, image_url, linked_submission_id, num_comments, score, subreddit, title, upvote_ratio, 2_way_label, 3_way_label, 6_way_label]\n",
            "Index: []\n",
            "Empty DataFrame\n",
            "Columns: [author, clean_title, created_utc, domain, hasImage, id, image_url, linked_submission_id, num_comments, score, subreddit, title, upvote_ratio, 2_way_label, 3_way_label, 6_way_label]\n",
            "Index: []\n"
          ]
        }
      ],
      "source": [
        "train_file = 'dataset/train.tsv'\n",
        "test_file = 'dataset/test.tsv'\n",
        "validate_file = 'dataset/validate.tsv'\n",
        "\n",
        "train_df = pd.read_csv(train_file, sep='\\t').head(dataset_limit)\n",
        "test_df = pd.read_csv(test_file, sep='\\t').head(dataset_limit)\n",
        "validate_df = pd.read_csv(validate_file, sep='\\t').head(dataset_limit)\n",
        "print(f\"Loading datasets with a limit of {dataset_limit} rows...\")\n",
        "\n",
        "print(train_df.head(0))\n",
        "print(test_df.head(0))\n",
        "print(validate_df.head(0))"
      ]
    },
    {
      "cell_type": "code",
      "execution_count": null,
      "metadata": {
        "colab": {
          "base_uri": "https://localhost:8080/"
        },
        "id": "gYcEFzTgqNGV",
        "outputId": "e1e29a22-0d1e-4a97-d430-de7515116444"
      },
      "outputs": [
        {
          "name": "stdout",
          "output_type": "stream",
          "text": [
            "Empty DataFrame\n",
            "Columns: [author, clean_title, domain, image_url, 2_way_label]\n",
            "Index: []\n",
            "Empty DataFrame\n",
            "Columns: [author, clean_title, domain, image_url, 2_way_label]\n",
            "Index: []\n",
            "Empty DataFrame\n",
            "Columns: [author, clean_title, domain, image_url, 2_way_label]\n",
            "Index: []\n"
          ]
        }
      ],
      "source": [
        "# Picking relavant columns\n",
        "selected_columns = ['author', 'clean_title', 'domain', 'image_url', '2_way_label']\n",
        "\n",
        "train_df = train_df[selected_columns]\n",
        "test_df = test_df[selected_columns]\n",
        "validate_df = validate_df[selected_columns]\n",
        "\n",
        "print(train_df.head(0))\n",
        "print(test_df.head(0))\n",
        "print(validate_df.head(0))\n"
      ]
    },
    {
      "cell_type": "code",
      "execution_count": null,
      "metadata": {
        "id": "0WHK7UUhp2Bi"
      },
      "outputs": [],
      "source": [
        "# Extracting labels and split the data\n",
        "train_labels = train_df['2_way_label'].values\n",
        "test_labels = test_df['2_way_label'].values\n",
        "validate_labels = validate_df['2_way_label'].values"
      ]
    },
    {
      "cell_type": "markdown",
      "metadata": {
        "id": "o_EofKVVS_Dp"
      },
      "source": [
        "#Tokenizing Text"
      ]
    },
    {
      "cell_type": "markdown",
      "metadata": {
        "id": "OmHC2IuxezBh"
      },
      "source": [
        "#Ernie"
      ]
    },
    {
      "cell_type": "code",
      "execution_count": null,
      "metadata": {
        "id": "1W7kdCMkviw8"
      },
      "outputs": [],
      "source": [
        "# Function to encode text using ERNIE\n",
        "def encode_text_ernie(author, clean_title, domain):\n",
        "    print(\"Encoding text using ERNIE...\")\n",
        "    tokenizer = AutoTokenizer.from_pretrained('nghuyong/ernie-2.0-en')\n",
        "    model = AutoModel.from_pretrained('nghuyong/ernie-2.0-en')\n",
        "\n",
        "    text = f\"{author} {clean_title} {domain}\"\n",
        "    input_ids = tokenizer.encode(text, return_tensors='pt', max_length=512, truncation=True)\n",
        "\n",
        "    with torch.no_grad():\n",
        "        outputs = model(input_ids)\n",
        "\n",
        "    embeddings = outputs.last_hidden_state.mean(dim=1).squeeze().numpy()\n",
        "    print(\"Text encoded using ERNIE.\")\n",
        "    return embeddings\n"
      ]
    },
    {
      "cell_type": "markdown",
      "metadata": {
        "id": "yE2bKeZxTIOx"
      },
      "source": [
        "#Vectorizing Images"
      ]
    },
    {
      "cell_type": "code",
      "execution_count": null,
      "metadata": {
        "id": "CnMEsT2Puw4k"
      },
      "outputs": [],
      "source": [
        "# Function to vectorize image from URL\n",
        "def vectorize_image_from_url(url, target_size=(224, 224)):\n",
        "    try:\n",
        "        print(f\"Loading image from URL: {url}\")\n",
        "        response = requests.get(url)\n",
        "        response.raise_for_status()  # Check for successful response\n",
        "        image = cv2.imdecode(np.frombuffer(response.content, np.uint8), cv2.IMREAD_COLOR)\n",
        "\n",
        "        if image is None:\n",
        "            raise Exception(\"Failed to decode image from URL.\")\n",
        "\n",
        "        image = cv2.cvtColor(image, cv2.COLOR_BGR2RGB)\n",
        "        image = cv2.resize(image, target_size)  # Resize to a consistent size\n",
        "        image_array = image.astype(np.float32) / 255.0\n",
        "\n",
        "        print(f\"Image loaded successfully from URL: {url}\")\n",
        "        return image_array\n",
        "\n",
        "    except Exception as e:\n",
        "        print(f\"Error processing image from URL {url}: {str(e)}\")\n",
        "        return None"
      ]
    },
    {
      "cell_type": "markdown",
      "metadata": {
        "id": "-TkimhJkTQgC"
      },
      "source": [
        "#Encode Text and Vectorize Images"
      ]
    },
    {
      "cell_type": "markdown",
      "metadata": {
        "id": "bXhp7ShGVJN0"
      },
      "source": [
        "##ERNIE"
      ]
    },
    {
      "cell_type": "code",
      "execution_count": null,
      "metadata": {
        "id": "JxTWqMcv_z11"
      },
      "outputs": [],
      "source": [
        "# Encode text and vectorize images for training set using ERNIE\n",
        "train_embeddings_ernie = []\n",
        "X_train_image_ernie = []\n",
        "\n",
        "for author, clean_title, domain, img_url, lbl in zip(train_df['author'], train_df['clean_title'], train_df['domain'], train_df['image_url'], train_df['2_way_label']):\n",
        "    text_embedding = encode_text_ernie(author, clean_title, domain)\n",
        "    image_embedding = vectorize_image_from_url(img_url)\n",
        "\n",
        "    if text_embedding is not None and image_embedding is not None:\n",
        "        train_embeddings_ernie.append(text_embedding)\n",
        "        X_train_image_ernie.append(image_embedding)\n",
        "\n",
        "train_embeddings_ernie = np.array(train_embeddings_ernie)\n",
        "X_train_image_ernie = np.array(X_train_image_ernie)\n"
      ]
    },
    {
      "cell_type": "code",
      "execution_count": null,
      "metadata": {
        "id": "wXEpBo-R_0og"
      },
      "outputs": [],
      "source": [
        "# Encode text and vectorize images for testing set using ERNIE\n",
        "test_embeddings_ernie = []\n",
        "X_test_image_ernie = []\n",
        "\n",
        "for author, clean_title, domain, img_url, lbl in zip(test_df['author'], test_df['clean_title'], test_df['domain'], test_df['image_url'], test_df['2_way_label']):\n",
        "    text_embedding = encode_text_ernie(author, clean_title, domain)\n",
        "    image_embedding = vectorize_image_from_url(img_url)\n",
        "\n",
        "    if text_embedding is not None and image_embedding is not None:\n",
        "        test_embeddings_ernie.append(text_embedding)\n",
        "        X_test_image_ernie.append(image_embedding)\n",
        "\n",
        "test_embeddings_ernie = np.array(test_embeddings_ernie)\n",
        "X_test_image_ernie = np.array(X_test_image_ernie)\n"
      ]
    },
    {
      "cell_type": "code",
      "execution_count": null,
      "metadata": {
        "colab": {
          "background_save": true
        },
        "id": "AGV3cJwT_3HI"
      },
      "outputs": [],
      "source": [
        "# Encode text and vectorize images for validation set using ERNIE\n",
        "validate_embeddings_ernie = []\n",
        "X_validate_image_ernie = []\n",
        "\n",
        "for author, clean_title, domain, img_url, lbl in zip(validate_df['author'], validate_df['clean_title'], validate_df['domain'], validate_df['image_url'], validate_df['2_way_label']):\n",
        "    text_embedding = encode_text_ernie(author, clean_title, domain)\n",
        "    image_embedding = vectorize_image_from_url(img_url)\n",
        "\n",
        "    if text_embedding is not None and image_embedding is not None:\n",
        "        validate_embeddings_ernie.append(text_embedding)\n",
        "        X_validate_image_ernie.append(image_embedding)\n",
        "\n",
        "validate_embeddings_ernie = np.array(validate_embeddings_ernie)\n",
        "X_validate_image_ernie = np.array(X_validate_image_ernie)\n"
      ]
    },
    {
      "cell_type": "markdown",
      "metadata": {
        "id": "awV8oLLg1x3d"
      },
      "source": [
        "# Model Building & Compiling"
      ]
    },
    {
      "cell_type": "markdown",
      "metadata": {
        "id": "zLQD4gppVOWI"
      },
      "source": [
        "##ERNIE - Train"
      ]
    },
    {
      "cell_type": "code",
      "execution_count": null,
      "metadata": {
        "id": "E0H7gqyuzBXV"
      },
      "outputs": [],
      "source": [
        "# Neural network model for ERNIE\n",
        "text_input_ernie = layers.Input(shape=(train_embeddings_ernie.shape[1],))\n",
        "text_layer_ernie = layers.Dense(128, activation='relu')(text_input_ernie)\n",
        "image_input_ernie = layers.Input(shape=(224, 224, 3))\n",
        "image_layer_ernie = layers.Conv2D(64, (3, 3), activation='relu')(image_input_ernie)\n",
        "image_layer_ernie = layers.MaxPooling2D((2, 2))(image_layer_ernie)\n",
        "image_layer_ernie = layers.Flatten()(image_layer_ernie)\n",
        "merged_ernie = layers.concatenate([text_layer_ernie, image_layer_ernie])\n",
        "output_ernie = layers.Dense(1, activation='sigmoid')(merged_ernie)"
      ]
    },
    {
      "cell_type": "code",
      "execution_count": null,
      "metadata": {
        "colab": {
          "base_uri": "https://localhost:8080/"
        },
        "id": "27_CDwey1WSv",
        "outputId": "aac206a2-c4be-4822-8876-006e84b91ec6"
      },
      "outputs": [
        {
          "output_type": "stream",
          "name": "stdout",
          "text": [
            "Training the model using ERNIE...\n"
          ]
        }
      ],
      "source": [
        "# Build and compile the model for ERNIE\n",
        "model_ernie = keras.Model(inputs=[text_input_ernie, image_input_ernie], outputs=output_ernie)\n",
        "model_ernie.compile(optimizer='adam', loss='binary_crossentropy', metrics=['accuracy'])\n",
        "\n",
        "print(\"Training the model using ERNIE...\")"
      ]
    },
    {
      "cell_type": "code",
      "execution_count": null,
      "metadata": {
        "colab": {
          "base_uri": "https://localhost:8080/"
        },
        "id": "BAsqySOo1ZQo",
        "outputId": "424a627e-14bb-4a6a-8f15-9d28a412a3cc"
      },
      "outputs": [
        {
          "output_type": "stream",
          "name": "stdout",
          "text": [
            "Epoch 1/5\n",
            "3/3 [==============================] - 2s 461ms/step - loss: 7.4472 - accuracy: 0.5333 - val_loss: 6.2247 - val_accuracy: 0.6842\n",
            "Epoch 2/5\n",
            "3/3 [==============================] - 1s 375ms/step - loss: 5.2731 - accuracy: 0.5733 - val_loss: 7.3854 - val_accuracy: 0.3158\n",
            "Epoch 3/5\n",
            "3/3 [==============================] - 1s 374ms/step - loss: 2.8969 - accuracy: 0.5333 - val_loss: 1.8518 - val_accuracy: 0.6842\n",
            "Epoch 4/5\n",
            "3/3 [==============================] - 1s 390ms/step - loss: 1.6715 - accuracy: 0.5867 - val_loss: 1.3894 - val_accuracy: 0.5263\n",
            "Epoch 5/5\n",
            "3/3 [==============================] - 1s 382ms/step - loss: 0.5621 - accuracy: 0.7600 - val_loss: 2.4510 - val_accuracy: 0.4737\n"
          ]
        },
        {
          "output_type": "execute_result",
          "data": {
            "text/plain": [
              "<keras.callbacks.History at 0x78c14c018160>"
            ]
          },
          "metadata": {},
          "execution_count": 43
        }
      ],
      "source": [
        "# Train the model for ERNIE\n",
        "model_ernie.fit([train_embeddings_ernie, X_train_image_ernie], train_labels, epochs=5, batch_size=32, validation_split=0.2)"
      ]
    },
    {
      "cell_type": "markdown",
      "metadata": {
        "id": "GJrNmhmiVRxd"
      },
      "source": [
        "##ERNIE - Test"
      ]
    },
    {
      "cell_type": "code",
      "execution_count": null,
      "metadata": {
        "id": "_zFvW7fG4BQE"
      },
      "outputs": [],
      "source": [
        "# Define the neural network model for ERNIE\n",
        "text_input_ernie = layers.Input(shape=(test_embeddings_ernie.shape[1],))\n",
        "text_layer_ernie = layers.Dense(128, activation='relu')(text_input_ernie)\n",
        "image_input_ernie = layers.Input(shape=(224, 224, 3))\n",
        "image_layer_ernie = layers.Conv2D(64, (3, 3), activation='relu')(image_input_ernie)\n",
        "image_layer_ernie = layers.MaxPooling2D((2, 2))(image_layer_ernie)\n",
        "image_layer_ernie = layers.Flatten()(image_layer_ernie)\n",
        "merged_ernie = layers.concatenate([text_layer_ernie, image_layer_ernie])\n",
        "output_ernie = layers.Dense(1, activation='sigmoid')(merged_ernie)"
      ]
    },
    {
      "cell_type": "code",
      "execution_count": null,
      "metadata": {
        "colab": {
          "base_uri": "https://localhost:8080/"
        },
        "id": "eErOY9qH4FK4",
        "outputId": "00334a4b-c877-4b26-d899-a950131a38da"
      },
      "outputs": [
        {
          "output_type": "stream",
          "name": "stdout",
          "text": [
            "Training the model using ERNIE...\n"
          ]
        }
      ],
      "source": [
        "# Build and compile the model for ERNIE\n",
        "model_ernie = keras.Model(inputs=[text_input_ernie, image_input_ernie], outputs=output_ernie)\n",
        "model_ernie.compile(optimizer='adam', loss='binary_crossentropy', metrics=['accuracy'])\n",
        "\n",
        "print(\"Training the model using ERNIE...\")"
      ]
    },
    {
      "cell_type": "code",
      "execution_count": null,
      "metadata": {
        "colab": {
          "base_uri": "https://localhost:8080/"
        },
        "id": "BhcV4eQ14Jv5",
        "outputId": "19ad529c-4061-4678-a6eb-5a4d897c6ba2"
      },
      "outputs": [
        {
          "output_type": "stream",
          "name": "stdout",
          "text": [
            "Epoch 1/5\n",
            "3/3 [==============================] - 2s 472ms/step - loss: 9.4503 - accuracy: 0.5733 - val_loss: 3.2016 - val_accuracy: 0.4211\n",
            "Epoch 2/5\n",
            "3/3 [==============================] - 1s 380ms/step - loss: 3.3886 - accuracy: 0.4667 - val_loss: 2.1871 - val_accuracy: 0.5789\n",
            "Epoch 3/5\n",
            "3/3 [==============================] - 1s 378ms/step - loss: 1.8840 - accuracy: 0.6133 - val_loss: 1.1610 - val_accuracy: 0.5789\n",
            "Epoch 4/5\n",
            "3/3 [==============================] - 1s 379ms/step - loss: 0.7386 - accuracy: 0.6933 - val_loss: 1.2654 - val_accuracy: 0.4211\n",
            "Epoch 5/5\n",
            "3/3 [==============================] - 1s 380ms/step - loss: 0.5371 - accuracy: 0.7200 - val_loss: 0.9073 - val_accuracy: 0.6842\n"
          ]
        },
        {
          "output_type": "execute_result",
          "data": {
            "text/plain": [
              "<keras.callbacks.History at 0x78c15abbffd0>"
            ]
          },
          "metadata": {},
          "execution_count": 46
        }
      ],
      "source": [
        "# Train the model for ERNIE\n",
        "model_ernie.fit([test_embeddings_ernie, X_test_image_ernie], test_labels, epochs=5, batch_size=32, validation_split=0.2)"
      ]
    },
    {
      "cell_type": "markdown",
      "metadata": {
        "id": "_fEsnaNV4SBb"
      },
      "source": [
        "# Models Evaluate and Metrics"
      ]
    },
    {
      "cell_type": "code",
      "execution_count": null,
      "metadata": {
        "colab": {
          "base_uri": "https://localhost:8080/"
        },
        "id": "sxIO_LeABV39",
        "outputId": "4fd6ad6a-5575-43cb-e651-aea38f70afa5"
      },
      "outputs": [
        {
          "output_type": "stream",
          "name": "stdout",
          "text": [
            "94 94 100\n"
          ]
        }
      ],
      "source": [
        "print(len(X_test_image_ernie), len(test_embeddings_ernie), len(test_labels) )"
      ]
    },
    {
      "cell_type": "code",
      "execution_count": null,
      "metadata": {
        "colab": {
          "base_uri": "https://localhost:8080/"
        },
        "id": "dlrztrMVBhwz",
        "outputId": "f624c5dd-4267-468a-9059-6af14e22df79"
      },
      "outputs": [
        {
          "output_type": "stream",
          "name": "stdout",
          "text": [
            "(94, 224, 224, 3) (94, 768) (100,)\n"
          ]
        }
      ],
      "source": [
        "print(X_test_image_ernie.shape, test_embeddings_ernie.shape, test_labels.shape)\n"
      ]
    },
    {
      "cell_type": "code",
      "execution_count": null,
      "metadata": {
        "id": "R6nistDZByks"
      },
      "outputs": [],
      "source": [
        "for sample_image, sample_embedding, label in zip(X_test_image_ernie, test_embeddings_ernie, test_labels):\n",
        "    print(sample_image.shape, sample_embedding.shape, label)"
      ]
    },
    {
      "cell_type": "markdown",
      "metadata": {
        "id": "OLVlov--feYd"
      },
      "source": [
        "#Ernie"
      ]
    },
    {
      "cell_type": "code",
      "execution_count": null,
      "metadata": {
        "id": "wEwQzvKaI1ah"
      },
      "outputs": [],
      "source": [
        "# Predictions for ERNIE model\n",
        "predictions_ernie = model_ernie.predict([test_embeddings_ernie, X_test_image_ernie])\n",
        "print(\"\\nPredictions for ERNIE model:\")\n",
        "print(predictions_ernie)"
      ]
    },
    {
      "cell_type": "markdown",
      "metadata": {
        "id": "uaG39wZBJnfy"
      },
      "source": [
        "#Visualization"
      ]
    },
    {
      "cell_type": "code",
      "execution_count": null,
      "metadata": {
        "id": "OeVasZnvKJI6"
      },
      "outputs": [],
      "source": [
        "# Function to evaluate and print metrics for a model\n",
        "def evaluate_model(model, X, y, model_name):\n",
        "    # Adjust the number of samples in labels to match X\n",
        "    y = y[:len(X[0])]\n",
        "\n",
        "    # Predictions\n",
        "    predictions = model.predict(X)\n",
        "\n",
        "    # Convert probabilities to binary predictions\n",
        "    binary_predictions = (predictions > 0.5).astype(int)\n",
        "\n",
        "    # Confusion Matrix\n",
        "    cm = confusion_matrix(y, binary_predictions)\n",
        "\n",
        "    # Classification Report\n",
        "    report = classification_report(y, binary_predictions)\n",
        "\n",
        "    # Accuracy and Loss\n",
        "    _, accuracy = model.evaluate(X, y)\n",
        "    loss = model.evaluate(X, y, return_dict=True)['loss']\n",
        "\n",
        "    # Prettier Table\n",
        "    table = prettytable.PrettyTable()\n",
        "    table.field_names = [\"Metric\", \"Value\"]\n",
        "    table.add_row([\"Accuracy\", f\"{accuracy:.4f}\"])\n",
        "    table.add_row([\"Loss\", f\"{loss:.4f}\"])\n",
        "\n",
        "    # Print Confusion Matrix\n",
        "    print(f\"\\nConfusion Matrix for {model_name} model:\")\n",
        "    print(cm)\n",
        "\n",
        "    # Print Classification Report\n",
        "    print(f\"\\nClassification Report for {model_name} model:\")\n",
        "    print(report)\n",
        "\n",
        "    # Plot Confusion Matrix\n",
        "    plt.figure(figsize=(8, 6))\n",
        "    sns.heatmap(cm, annot=True, fmt=\"d\", cmap=\"Blues\", cbar=False)\n",
        "    plt.title(f\"Confusion Matrix for {model_name} model\")\n",
        "    plt.xlabel(\"Predicted\")\n",
        "    plt.ylabel(\"Actual\")\n",
        "    plt.show()\n",
        "\n",
        "    # Bar plot for Binary Predictions\n",
        "    plt.figure(figsize=(8, 6))\n",
        "    sns.countplot(x=binary_predictions.flatten())\n",
        "    plt.title(f\"Binary Predictions Distribution for {model_name} model\")\n",
        "    plt.xlabel(\"Predicted Class\")\n",
        "    plt.ylabel(\"Count\")\n",
        "    plt.show()\n",
        "\n",
        "    # Prettier Table\n",
        "    print(table)\n"
      ]
    },
    {
      "cell_type": "code",
      "execution_count": null,
      "metadata": {
        "colab": {
          "base_uri": "https://localhost:8080/",
          "height": 1000
        },
        "id": "s4hLh59DKNYT",
        "outputId": "5f00e99e-85e3-4802-e754-59f84b6a8c8e"
      },
      "outputs": [
        {
          "output_type": "stream",
          "name": "stdout",
          "text": [
            "3/3 [==============================] - 0s 87ms/step\n",
            "3/3 [==============================] - 0s 91ms/step - loss: 0.5113 - accuracy: 0.7872\n",
            "3/3 [==============================] - 0s 91ms/step - loss: 0.5113 - accuracy: 0.7872\n",
            "\n",
            "Confusion Matrix for ernie model:\n",
            "[[53  0]\n",
            " [20 21]]\n",
            "\n",
            "Classification Report for ernie model:\n",
            "              precision    recall  f1-score   support\n",
            "\n",
            "           0       0.73      1.00      0.84        53\n",
            "           1       1.00      0.51      0.68        41\n",
            "\n",
            "    accuracy                           0.79        94\n",
            "   macro avg       0.86      0.76      0.76        94\n",
            "weighted avg       0.85      0.79      0.77        94\n",
            "\n"
          ]
        },
        {
          "output_type": "display_data",
          "data": {
            "text/plain": [
              "<Figure size 800x600 with 1 Axes>"
            ],
            "image/png": "[encoded data removed]"
          },
          "metadata": {}
        },
        {
          "output_type": "display_data",
          "data": {
            "text/plain": [
              "<Figure size 800x600 with 1 Axes>"
            ],
            "image/png": "[encoded data removed]"
          },
          "metadata": {}
        },
        {
          "output_type": "stream",
          "name": "stdout",
          "text": [
            "+----------+--------+\n",
            "|  Metric  | Value  |\n",
            "+----------+--------+\n",
            "| Accuracy | 0.7872 |\n",
            "|   Loss   | 0.5113 |\n",
            "+----------+--------+\n"
          ]
        }
      ],
      "source": [
        "# Evaluate and print metrics for Ernie model\n",
        "evaluate_model(model_ernie, [test_embeddings_ernie, X_test_image_ernie], test_labels, \"ernie\")\n"
      ]
    },
    {
      "cell_type": "code",
      "execution_count": null,
      "metadata": {
        "id": "WpjsWAnHaLwb",
        "colab": {
          "base_uri": "https://localhost:8080/"
        },
        "outputId": "506dab62-0bfa-4ab3-b59b-f9dbe3ab2e55"
      },
      "outputs": [
        {
          "output_type": "stream",
          "name": "stdout",
          "text": [
            "Epoch 1/5\n",
            "3/3 [==============================] - 1s 412ms/step - loss: 1.0938 - accuracy: 0.5467 - val_loss: 0.8843 - val_accuracy: 0.6842\n",
            "Epoch 2/5\n",
            "3/3 [==============================] - 1s 375ms/step - loss: 1.0000 - accuracy: 0.5067 - val_loss: 0.9145 - val_accuracy: 0.4211\n",
            "Epoch 3/5\n",
            "3/3 [==============================] - 1s 375ms/step - loss: 0.5337 - accuracy: 0.7333 - val_loss: 0.7908 - val_accuracy: 0.6316\n",
            "Epoch 4/5\n",
            "3/3 [==============================] - 1s 374ms/step - loss: 0.4809 - accuracy: 0.7467 - val_loss: 0.8880 - val_accuracy: 0.3684\n",
            "Epoch 5/5\n",
            "3/3 [==============================] - 1s 379ms/step - loss: 0.3659 - accuracy: 0.8533 - val_loss: 1.2191 - val_accuracy: 0.4211\n"
          ]
        }
      ],
      "source": [
        "# Train the model for ERNIE\n",
        "history = model_ernie.fit([train_embeddings_ernie, X_train_image_ernie], train_labels, epochs=5, batch_size=32, validation_split=0.2)\n",
        "\n",
        "# Extract training history\n",
        "training_loss = history.history['loss']\n",
        "validation_loss = history.history['val_loss']\n",
        "training_accuracy = history.history['accuracy']\n",
        "validation_accuracy = history.history['val_accuracy']\n"
      ]
    },
    {
      "cell_type": "code",
      "execution_count": null,
      "metadata": {
        "id": "JMePexWQaO3w",
        "colab": {
          "base_uri": "https://localhost:8080/",
          "height": 325
        },
        "outputId": "8dd3f4b6-df71-4aa6-8db5-83677cacae42"
      },
      "outputs": [
        {
          "output_type": "display_data",
          "data": {
            "text/plain": [
              "<Figure size 1200x500 with 2 Axes>"
            ],
            "image/png": "[encoded data removed]"
          },
          "metadata": {}
        }
      ],
      "source": [
        "def plot_learning_curves(training_loss, validation_loss, training_accuracy, validation_accuracy):\n",
        "    epochs = range(1, len(training_loss) + 1)\n",
        "\n",
        "    # Plot Loss\n",
        "    plt.figure(figsize=(12, 5))\n",
        "    plt.subplot(1, 2, 1)\n",
        "    plt.plot(epochs, training_loss, 'bo-', label='Training Loss')\n",
        "    plt.plot(epochs, validation_loss, 'r^-', label='Validation Loss')\n",
        "    plt.title('Training and Validation Loss')\n",
        "    plt.xlabel('Epochs')\n",
        "    plt.ylabel('Loss')\n",
        "    plt.legend()\n",
        "\n",
        "    # Plot Accuracy\n",
        "    plt.subplot(1, 2, 2)\n",
        "    plt.plot(epochs, training_accuracy, 'bo-', label='Training Accuracy')\n",
        "    plt.plot(epochs, validation_accuracy, 'r^-', label='Validation Accuracy')\n",
        "    plt.title('Training and Validation Accuracy')\n",
        "    plt.xlabel('Epochs')\n",
        "    plt.ylabel('Accuracy')\n",
        "    plt.legend()\n",
        "\n",
        "    plt.show()\n",
        "\n",
        "# Plot learning curves\n",
        "plot_learning_curves(training_loss, validation_loss, training_accuracy, validation_accuracy)\n"
      ]
    },
    {
      "cell_type": "code",
      "execution_count": null,
      "metadata": {
        "id": "NPuSJY1AaQls",
        "colab": {
          "base_uri": "https://localhost:8080/",
          "height": 684
        },
        "outputId": "4631da40-3092-4f17-90e4-2269b4cc33f6"
      },
      "outputs": [
        {
          "output_type": "display_data",
          "data": {
            "text/plain": [
              "<Figure size 800x800 with 1 Axes>"
            ],
            "image/png": "[encoded data removed]"
          },
          "metadata": {}
        }
      ],
      "source": [
        "# Ensure both arrays have the same size\n",
        "min_size = min(predictions_ernie.shape[0], test_labels.shape[0])\n",
        "predictions_ernie = predictions_ernie[:min_size]\n",
        "test_labels = test_labels[:min_size]\n",
        "\n",
        "# Scatter plot\n",
        "plt.figure(figsize=(8, 8))\n",
        "plt.scatter(predictions_ernie, test_labels, alpha=0.5)\n",
        "plt.title('Scatter Plot of Predictions vs True Labels')\n",
        "plt.xlabel('Predictions')\n",
        "plt.ylabel('True Labels')\n",
        "plt.show()\n"
      ]
    },
    {
      "cell_type": "code",
      "execution_count": null,
      "metadata": {
        "id": "8ATukX3Wr5nW"
      },
      "outputs": [],
      "source": [
        "!apt-get install texlive texlive-xetex texlive-latex-extra pandoc\n",
        "!pip install pypandoc"
      ]
    },
    {
      "cell_type": "code",
      "execution_count": null,
      "metadata": {
        "colab": {
          "base_uri": "https://localhost:8080/"
        },
        "id": "fR2jCVmxrMfq",
        "outputId": "c8626032-4de3-4d1b-bdfb-88644237d960"
      },
      "outputs": [
        {
          "name": "stdout",
          "output_type": "stream",
          "text": [
            "[NbConvertApp] Converting notebook FinalCut.ipynb to PDF\n",
            "[NbConvertApp] Support files will be in FinalCut_files/\n",
            "[NbConvertApp] Making directory ./FinalCut_files\n",
            "[NbConvertApp] Making directory ./FinalCut_files\n",
            "[NbConvertApp] Writing 102635 bytes to notebook.tex\n",
            "[NbConvertApp] Building PDF\n",
            "[NbConvertApp] Running xelatex 3 times: ['xelatex', 'notebook.tex', '-quiet']\n",
            "[NbConvertApp] Running bibtex 1 time: ['bibtex', 'notebook']\n",
            "[NbConvertApp] WARNING | bibtex had problems, most likely because there were no citations\n",
            "[NbConvertApp] PDF successfully created\n",
            "[NbConvertApp] Writing 114161 bytes to FinalCut.pdf\n"
          ]
        }
      ],
      "source": [
        "!jupyter nbconvert --to PDF \"FinalCut.ipynb\""
      ]
    }
  ],
  "metadata": {
    "accelerator": "TPU",
    "colab": {
      "collapsed_sections": [
        "cW__gtu9Uri4",
        "Mkt_EIpJU13G",
        "5E4wGYHlU5gp",
        "mLqzAM5sVAeR",
        "TEu5SdbffaOO"
      ],
      "machine_shape": "hm",
      "provenance": []
    },
    "kernelspec": {
      "display_name": "Python 3",
      "name": "python3"
    },
    "language_info": {
      "name": "python"
    }
  },
  "nbformat": 4,
  "nbformat_minor": 0
}